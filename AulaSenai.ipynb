{
  "nbformat": 4,
  "nbformat_minor": 0,
  "metadata": {
    "colab": {
      "name": "AulaSenai.ipynb",
      "provenance": [],
      "authorship_tag": "ABX9TyNaAfTl7OEspffXvXUUBMfN",
      "include_colab_link": true
    },
    "kernelspec": {
      "name": "python3",
      "display_name": "Python 3"
    }
  },
  "cells": [
    {
      "cell_type": "markdown",
      "metadata": {
        "id": "view-in-github",
        "colab_type": "text"
      },
      "source": [
        "<a href=\"https://colab.research.google.com/github/italowandrade/Estacao_Hack/blob/master/AulaSenai.ipynb\" target=\"_parent\"><img src=\"https://colab.research.google.com/assets/colab-badge.svg\" alt=\"Open In Colab\"/></a>"
      ]
    },
    {
      "cell_type": "code",
      "metadata": {
        "id": "gwWsDQqlVcdJ",
        "colab_type": "code",
        "colab": {
          "base_uri": "https://localhost:8080/",
          "height": 34
        },
        "outputId": "0a2700dd-0db0-4ed6-a939-20bfd2f517b7"
      },
      "source": [
        "!pwd"
      ],
      "execution_count": 1,
      "outputs": [
        {
          "output_type": "stream",
          "text": [
            "/content\n"
          ],
          "name": "stdout"
        }
      ]
    },
    {
      "cell_type": "code",
      "metadata": {
        "id": "1im07hrXWmFC",
        "colab_type": "code",
        "colab": {}
      },
      "source": [
        "!mkdir AulaSenai"
      ],
      "execution_count": null,
      "outputs": []
    },
    {
      "cell_type": "code",
      "metadata": {
        "id": "b7iju5oBWmI6",
        "colab_type": "code",
        "colab": {
          "base_uri": "https://localhost:8080/",
          "height": 34
        },
        "outputId": "abfdb4ab-09b8-4ac9-d0ed-69e72809c902"
      },
      "source": [
        "cd /content/AulaSenai"
      ],
      "execution_count": 7,
      "outputs": [
        {
          "output_type": "stream",
          "text": [
            "/content/AulaSenai\n"
          ],
          "name": "stdout"
        }
      ]
    },
    {
      "cell_type": "code",
      "metadata": {
        "id": "FDXdMqhvWmMC",
        "colab_type": "code",
        "colab": {
          "base_uri": "https://localhost:8080/",
          "height": 122
        },
        "outputId": "5467196c-10a3-4879-cd4a-3fcd38c93f84"
      },
      "source": [
        "from google.colab import drive\n",
        "drive.mount('/content/AulaSenai/gdrive')"
      ],
      "execution_count": 8,
      "outputs": [
        {
          "output_type": "stream",
          "text": [
            "Go to this URL in a browser: https://accounts.google.com/o/oauth2/auth?client_id=947318989803-6bn6qk8qdgf4n4g3pfee6491hc0brc4i.apps.googleusercontent.com&redirect_uri=urn%3aietf%3awg%3aoauth%3a2.0%3aoob&response_type=code&scope=email%20https%3a%2f%2fwww.googleapis.com%2fauth%2fdocs.test%20https%3a%2f%2fwww.googleapis.com%2fauth%2fdrive%20https%3a%2f%2fwww.googleapis.com%2fauth%2fdrive.photos.readonly%20https%3a%2f%2fwww.googleapis.com%2fauth%2fpeopleapi.readonly\n",
            "\n",
            "Enter your authorization code:\n",
            "··········\n",
            "Mounted at /content/AulaSenai/gdrive\n"
          ],
          "name": "stdout"
        }
      ]
    },
    {
      "cell_type": "code",
      "metadata": {
        "id": "2AQQAUv8WmPK",
        "colab_type": "code",
        "colab": {}
      },
      "source": [
        "import pandas as pd\n",
        "df1000 = pd.read_csv('http://compras.dados.gov.br/materiais/v1/materiais.csv?grupo=65&offset=1000')"
      ],
      "execution_count": 13,
      "outputs": []
    },
    {
      "cell_type": "code",
      "metadata": {
        "id": "Mf34fHfkWmR8",
        "colab_type": "code",
        "colab": {
          "base_uri": "https://localhost:8080/",
          "height": 306
        },
        "outputId": "c6bd546b-0532-4d00-dc25-08494c07aa2a"
      },
      "source": [
        "df1000.head()"
      ],
      "execution_count": 17,
      "outputs": [
        {
          "output_type": "execute_result",
          "data": {
            "text/html": [
              "<div>\n",
              "<style scoped>\n",
              "    .dataframe tbody tr th:only-of-type {\n",
              "        vertical-align: middle;\n",
              "    }\n",
              "\n",
              "    .dataframe tbody tr th {\n",
              "        vertical-align: top;\n",
              "    }\n",
              "\n",
              "    .dataframe thead th {\n",
              "        text-align: right;\n",
              "    }\n",
              "</style>\n",
              "<table border=\"1\" class=\"dataframe\">\n",
              "  <thead>\n",
              "    <tr style=\"text-align: right;\">\n",
              "      <th></th>\n",
              "      <th>Código do Item</th>\n",
              "      <th>Descrição do Item</th>\n",
              "      <th>Grupo</th>\n",
              "      <th>Classe</th>\n",
              "      <th>PDM</th>\n",
              "      <th>Status</th>\n",
              "      <th>Sustentável</th>\n",
              "    </tr>\n",
              "  </thead>\n",
              "  <tbody>\n",
              "    <tr>\n",
              "      <th>0</th>\n",
              "      <td>125806</td>\n",
              "      <td>OLEO DE TEREBENTINA, OLEO DE TEREBENTINA NOME</td>\n",
              "      <td>65: EQUIPAMENTOS E ARTIGOS PARA USO MÉDICO, DE...</td>\n",
              "      <td>6505: DROGAS E MEDICAMENTOS                   ...</td>\n",
              "      <td>10190: OLEO DE TEREBENTINA                    ...</td>\n",
              "      <td>Inativo</td>\n",
              "      <td>Não</td>\n",
              "    </tr>\n",
              "    <tr>\n",
              "      <th>1</th>\n",
              "      <td>125814</td>\n",
              "      <td>OLEO DE ANILINA, OLEO DE ANILINA NOME</td>\n",
              "      <td>65: EQUIPAMENTOS E ARTIGOS PARA USO MÉDICO, DE...</td>\n",
              "      <td>6505: DROGAS E MEDICAMENTOS                   ...</td>\n",
              "      <td>10175: OLEO DE ANILINA                        ...</td>\n",
              "      <td>Inativo</td>\n",
              "      <td>Não</td>\n",
              "    </tr>\n",
              "    <tr>\n",
              "      <th>2</th>\n",
              "      <td>125822</td>\n",
              "      <td>PICIBANIL, OLEO DE AMENDOIM NOME</td>\n",
              "      <td>65: EQUIPAMENTOS E ARTIGOS PARA USO MÉDICO, DE...</td>\n",
              "      <td>6505: DROGAS E MEDICAMENTOS                   ...</td>\n",
              "      <td>10174: PICIBANIL                              ...</td>\n",
              "      <td>Inativo</td>\n",
              "      <td>Não</td>\n",
              "    </tr>\n",
              "    <tr>\n",
              "      <th>3</th>\n",
              "      <td>125873</td>\n",
              "      <td>DISPOSITIVO APLICAÇÃO SOLUÇÕES SIMULTÂNEAS, DI...</td>\n",
              "      <td>65: EQUIPAMENTOS E ARTIGOS PARA USO MÉDICO, DE...</td>\n",
              "      <td>6515: INSTRUMENTOS, EQUIPAMENTOS E SUPRIMENTOS...</td>\n",
              "      <td>06324: DISPOSITIVO APLICAÇÃO SOLUÇÕES SIMULTÂN...</td>\n",
              "      <td>Inativo</td>\n",
              "      <td>Não</td>\n",
              "    </tr>\n",
              "    <tr>\n",
              "      <th>4</th>\n",
              "      <td>125911</td>\n",
              "      <td>LEVOFLOXACINO, LEVOFLOXACINO NOME</td>\n",
              "      <td>65: EQUIPAMENTOS E ARTIGOS PARA USO MÉDICO, DE...</td>\n",
              "      <td>6505: DROGAS E MEDICAMENTOS                   ...</td>\n",
              "      <td>08807: LEVOFLOXACINO                          ...</td>\n",
              "      <td>Inativo</td>\n",
              "      <td>Não</td>\n",
              "    </tr>\n",
              "  </tbody>\n",
              "</table>\n",
              "</div>"
            ],
            "text/plain": [
              "   Código do Item  ... Sustentável\n",
              "0          125806  ...         Não\n",
              "1          125814  ...         Não\n",
              "2          125822  ...         Não\n",
              "3          125873  ...         Não\n",
              "4          125911  ...         Não\n",
              "\n",
              "[5 rows x 7 columns]"
            ]
          },
          "metadata": {
            "tags": []
          },
          "execution_count": 17
        }
      ]
    },
    {
      "cell_type": "code",
      "metadata": {
        "id": "JiEnJh4sWmU6",
        "colab_type": "code",
        "colab": {
          "base_uri": "https://localhost:8080/",
          "height": 306
        },
        "outputId": "f2c04dab-8ba4-48f4-eacc-e8dee3639a69"
      },
      "source": [
        "df1000.tail()"
      ],
      "execution_count": 20,
      "outputs": [
        {
          "output_type": "execute_result",
          "data": {
            "text/html": [
              "<div>\n",
              "<style scoped>\n",
              "    .dataframe tbody tr th:only-of-type {\n",
              "        vertical-align: middle;\n",
              "    }\n",
              "\n",
              "    .dataframe tbody tr th {\n",
              "        vertical-align: top;\n",
              "    }\n",
              "\n",
              "    .dataframe thead th {\n",
              "        text-align: right;\n",
              "    }\n",
              "</style>\n",
              "<table border=\"1\" class=\"dataframe\">\n",
              "  <thead>\n",
              "    <tr style=\"text-align: right;\">\n",
              "      <th></th>\n",
              "      <th>Código do Item</th>\n",
              "      <th>Descrição do Item</th>\n",
              "      <th>Grupo</th>\n",
              "      <th>Classe</th>\n",
              "      <th>PDM</th>\n",
              "      <th>Status</th>\n",
              "      <th>Sustentável</th>\n",
              "    </tr>\n",
              "  </thead>\n",
              "  <tbody>\n",
              "    <tr>\n",
              "      <th>495</th>\n",
              "      <td>150774</td>\n",
              "      <td>MULTIVITAMINAS, VITAMINA - USO VETERINÁRIO NOME</td>\n",
              "      <td>65: EQUIPAMENTOS E ARTIGOS PARA USO MÉDICO, DE...</td>\n",
              "      <td>6509: DROGAS E PRODUTOS BIOLÓGICOS DE USO VETE...</td>\n",
              "      <td>17859: MULTIVITAMINAS                         ...</td>\n",
              "      <td>Inativo</td>\n",
              "      <td>Não</td>\n",
              "    </tr>\n",
              "    <tr>\n",
              "      <th>496</th>\n",
              "      <td>150775</td>\n",
              "      <td>SALICILATO DE METILA, SALICILATO DE METILA NOME</td>\n",
              "      <td>65: EQUIPAMENTOS E ARTIGOS PARA USO MÉDICO, DE...</td>\n",
              "      <td>6509: DROGAS E PRODUTOS BIOLÓGICOS DE USO VETE...</td>\n",
              "      <td>07636: SALICILATO DE METILA                   ...</td>\n",
              "      <td>Inativo</td>\n",
              "      <td>Não</td>\n",
              "    </tr>\n",
              "    <tr>\n",
              "      <th>497</th>\n",
              "      <td>150804</td>\n",
              "      <td>RESSONÂNCIA MAGNÉTICA, EQUIPAMENTO RESSONÂNCIA...</td>\n",
              "      <td>65: EQUIPAMENTOS E ARTIGOS PARA USO MÉDICO, DE...</td>\n",
              "      <td>6525: EQUIPAMENTOS E SUPRIMENTOS DE RAIOS-X DE...</td>\n",
              "      <td>02675: RESSONÂNCIA MAGNÉTICA                  ...</td>\n",
              "      <td>Inativo</td>\n",
              "      <td>Não</td>\n",
              "    </tr>\n",
              "    <tr>\n",
              "      <th>498</th>\n",
              "      <td>150808</td>\n",
              "      <td>PEÇA ACESSÓRIO P/ SISTEMA BRAQUITERAPIA, APARE...</td>\n",
              "      <td>65: EQUIPAMENTOS E ARTIGOS PARA USO MÉDICO, DE...</td>\n",
              "      <td>6525: EQUIPAMENTOS E SUPRIMENTOS DE RAIOS-X DE...</td>\n",
              "      <td>02844: PEÇA ACESSÓRIO P/ SISTEMA BRAQUITERAPIA...</td>\n",
              "      <td>Inativo</td>\n",
              "      <td>Não</td>\n",
              "    </tr>\n",
              "    <tr>\n",
              "      <th>499</th>\n",
              "      <td>150811</td>\n",
              "      <td>CARRINHO - USO LABORATÓRIO, CARRINHO - USO LAB...</td>\n",
              "      <td>65: EQUIPAMENTOS E ARTIGOS PARA USO MÉDICO, DE...</td>\n",
              "      <td>6530: MOBILIÁRIO, EQUIPAMENTOS, UTENSÍLIOS E  ...</td>\n",
              "      <td>17750: CARRINHO - USO LABORATÓRIO             ...</td>\n",
              "      <td>Inativo</td>\n",
              "      <td>Não</td>\n",
              "    </tr>\n",
              "  </tbody>\n",
              "</table>\n",
              "</div>"
            ],
            "text/plain": [
              "     Código do Item  ... Sustentável\n",
              "495          150774  ...         Não\n",
              "496          150775  ...         Não\n",
              "497          150804  ...         Não\n",
              "498          150808  ...         Não\n",
              "499          150811  ...         Não\n",
              "\n",
              "[5 rows x 7 columns]"
            ]
          },
          "metadata": {
            "tags": []
          },
          "execution_count": 20
        }
      ]
    },
    {
      "cell_type": "code",
      "metadata": {
        "id": "bzkrl_uqWmXy",
        "colab_type": "code",
        "colab": {
          "base_uri": "https://localhost:8080/",
          "height": 297
        },
        "outputId": "ac7ee870-94e2-4b2d-f069-7c8473815810"
      },
      "source": [
        "df1000.describe()"
      ],
      "execution_count": 21,
      "outputs": [
        {
          "output_type": "execute_result",
          "data": {
            "text/html": [
              "<div>\n",
              "<style scoped>\n",
              "    .dataframe tbody tr th:only-of-type {\n",
              "        vertical-align: middle;\n",
              "    }\n",
              "\n",
              "    .dataframe tbody tr th {\n",
              "        vertical-align: top;\n",
              "    }\n",
              "\n",
              "    .dataframe thead th {\n",
              "        text-align: right;\n",
              "    }\n",
              "</style>\n",
              "<table border=\"1\" class=\"dataframe\">\n",
              "  <thead>\n",
              "    <tr style=\"text-align: right;\">\n",
              "      <th></th>\n",
              "      <th>Código do Item</th>\n",
              "    </tr>\n",
              "  </thead>\n",
              "  <tbody>\n",
              "    <tr>\n",
              "      <th>count</th>\n",
              "      <td>500.000000</td>\n",
              "    </tr>\n",
              "    <tr>\n",
              "      <th>mean</th>\n",
              "      <td>132869.478000</td>\n",
              "    </tr>\n",
              "    <tr>\n",
              "      <th>std</th>\n",
              "      <td>14751.203291</td>\n",
              "    </tr>\n",
              "    <tr>\n",
              "      <th>min</th>\n",
              "      <td>1422.000000</td>\n",
              "    </tr>\n",
              "    <tr>\n",
              "      <th>25%</th>\n",
              "      <td>129084.250000</td>\n",
              "    </tr>\n",
              "    <tr>\n",
              "      <th>50%</th>\n",
              "      <td>134189.000000</td>\n",
              "    </tr>\n",
              "    <tr>\n",
              "      <th>75%</th>\n",
              "      <td>137040.500000</td>\n",
              "    </tr>\n",
              "    <tr>\n",
              "      <th>max</th>\n",
              "      <td>150811.000000</td>\n",
              "    </tr>\n",
              "  </tbody>\n",
              "</table>\n",
              "</div>"
            ],
            "text/plain": [
              "       Código do Item\n",
              "count      500.000000\n",
              "mean    132869.478000\n",
              "std      14751.203291\n",
              "min       1422.000000\n",
              "25%     129084.250000\n",
              "50%     134189.000000\n",
              "75%     137040.500000\n",
              "max     150811.000000"
            ]
          },
          "metadata": {
            "tags": []
          },
          "execution_count": 21
        }
      ]
    },
    {
      "cell_type": "code",
      "metadata": {
        "id": "BeiHkSW2WmeT",
        "colab_type": "code",
        "colab": {}
      },
      "source": [
        "df1000.to_csv('/content/AulaSenai/gdrive/My Drive/ColabNotebooks/df1000.csv')"
      ],
      "execution_count": 31,
      "outputs": []
    },
    {
      "cell_type": "code",
      "metadata": {
        "id": "tyUYAuyNdEPG",
        "colab_type": "code",
        "colab": {
          "base_uri": "https://localhost:8080/",
          "height": 606
        },
        "outputId": "729b2e0c-3702-4e6c-d0a7-d7d03655a692"
      },
      "source": [
        "pd.read_csv('/content/AulaSenai/gdrive/My Drive/ColabNotebooks/df1000.csv')"
      ],
      "execution_count": 33,
      "outputs": [
        {
          "output_type": "execute_result",
          "data": {
            "text/html": [
              "<div>\n",
              "<style scoped>\n",
              "    .dataframe tbody tr th:only-of-type {\n",
              "        vertical-align: middle;\n",
              "    }\n",
              "\n",
              "    .dataframe tbody tr th {\n",
              "        vertical-align: top;\n",
              "    }\n",
              "\n",
              "    .dataframe thead th {\n",
              "        text-align: right;\n",
              "    }\n",
              "</style>\n",
              "<table border=\"1\" class=\"dataframe\">\n",
              "  <thead>\n",
              "    <tr style=\"text-align: right;\">\n",
              "      <th></th>\n",
              "      <th>Unnamed: 0</th>\n",
              "      <th>Código do Item</th>\n",
              "      <th>Descrição do Item</th>\n",
              "      <th>Grupo</th>\n",
              "      <th>Classe</th>\n",
              "      <th>PDM</th>\n",
              "      <th>Status</th>\n",
              "      <th>Sustentável</th>\n",
              "    </tr>\n",
              "  </thead>\n",
              "  <tbody>\n",
              "    <tr>\n",
              "      <th>0</th>\n",
              "      <td>0</td>\n",
              "      <td>125806</td>\n",
              "      <td>OLEO DE TEREBENTINA, OLEO DE TEREBENTINA NOME</td>\n",
              "      <td>65: EQUIPAMENTOS E ARTIGOS PARA USO MÉDICO, DE...</td>\n",
              "      <td>6505: DROGAS E MEDICAMENTOS                   ...</td>\n",
              "      <td>10190: OLEO DE TEREBENTINA                    ...</td>\n",
              "      <td>Inativo</td>\n",
              "      <td>Não</td>\n",
              "    </tr>\n",
              "    <tr>\n",
              "      <th>1</th>\n",
              "      <td>1</td>\n",
              "      <td>125814</td>\n",
              "      <td>OLEO DE ANILINA, OLEO DE ANILINA NOME</td>\n",
              "      <td>65: EQUIPAMENTOS E ARTIGOS PARA USO MÉDICO, DE...</td>\n",
              "      <td>6505: DROGAS E MEDICAMENTOS                   ...</td>\n",
              "      <td>10175: OLEO DE ANILINA                        ...</td>\n",
              "      <td>Inativo</td>\n",
              "      <td>Não</td>\n",
              "    </tr>\n",
              "    <tr>\n",
              "      <th>2</th>\n",
              "      <td>2</td>\n",
              "      <td>125822</td>\n",
              "      <td>PICIBANIL, OLEO DE AMENDOIM NOME</td>\n",
              "      <td>65: EQUIPAMENTOS E ARTIGOS PARA USO MÉDICO, DE...</td>\n",
              "      <td>6505: DROGAS E MEDICAMENTOS                   ...</td>\n",
              "      <td>10174: PICIBANIL                              ...</td>\n",
              "      <td>Inativo</td>\n",
              "      <td>Não</td>\n",
              "    </tr>\n",
              "    <tr>\n",
              "      <th>3</th>\n",
              "      <td>3</td>\n",
              "      <td>125873</td>\n",
              "      <td>DISPOSITIVO APLICAÇÃO SOLUÇÕES SIMULTÂNEAS, DI...</td>\n",
              "      <td>65: EQUIPAMENTOS E ARTIGOS PARA USO MÉDICO, DE...</td>\n",
              "      <td>6515: INSTRUMENTOS, EQUIPAMENTOS E SUPRIMENTOS...</td>\n",
              "      <td>06324: DISPOSITIVO APLICAÇÃO SOLUÇÕES SIMULTÂN...</td>\n",
              "      <td>Inativo</td>\n",
              "      <td>Não</td>\n",
              "    </tr>\n",
              "    <tr>\n",
              "      <th>4</th>\n",
              "      <td>4</td>\n",
              "      <td>125911</td>\n",
              "      <td>LEVOFLOXACINO, LEVOFLOXACINO NOME</td>\n",
              "      <td>65: EQUIPAMENTOS E ARTIGOS PARA USO MÉDICO, DE...</td>\n",
              "      <td>6505: DROGAS E MEDICAMENTOS                   ...</td>\n",
              "      <td>08807: LEVOFLOXACINO                          ...</td>\n",
              "      <td>Inativo</td>\n",
              "      <td>Não</td>\n",
              "    </tr>\n",
              "    <tr>\n",
              "      <th>...</th>\n",
              "      <td>...</td>\n",
              "      <td>...</td>\n",
              "      <td>...</td>\n",
              "      <td>...</td>\n",
              "      <td>...</td>\n",
              "      <td>...</td>\n",
              "      <td>...</td>\n",
              "      <td>...</td>\n",
              "    </tr>\n",
              "    <tr>\n",
              "      <th>495</th>\n",
              "      <td>495</td>\n",
              "      <td>150774</td>\n",
              "      <td>MULTIVITAMINAS, VITAMINA - USO VETERINÁRIO NOME</td>\n",
              "      <td>65: EQUIPAMENTOS E ARTIGOS PARA USO MÉDICO, DE...</td>\n",
              "      <td>6509: DROGAS E PRODUTOS BIOLÓGICOS DE USO VETE...</td>\n",
              "      <td>17859: MULTIVITAMINAS                         ...</td>\n",
              "      <td>Inativo</td>\n",
              "      <td>Não</td>\n",
              "    </tr>\n",
              "    <tr>\n",
              "      <th>496</th>\n",
              "      <td>496</td>\n",
              "      <td>150775</td>\n",
              "      <td>SALICILATO DE METILA, SALICILATO DE METILA NOME</td>\n",
              "      <td>65: EQUIPAMENTOS E ARTIGOS PARA USO MÉDICO, DE...</td>\n",
              "      <td>6509: DROGAS E PRODUTOS BIOLÓGICOS DE USO VETE...</td>\n",
              "      <td>07636: SALICILATO DE METILA                   ...</td>\n",
              "      <td>Inativo</td>\n",
              "      <td>Não</td>\n",
              "    </tr>\n",
              "    <tr>\n",
              "      <th>497</th>\n",
              "      <td>497</td>\n",
              "      <td>150804</td>\n",
              "      <td>RESSONÂNCIA MAGNÉTICA, EQUIPAMENTO RESSONÂNCIA...</td>\n",
              "      <td>65: EQUIPAMENTOS E ARTIGOS PARA USO MÉDICO, DE...</td>\n",
              "      <td>6525: EQUIPAMENTOS E SUPRIMENTOS DE RAIOS-X DE...</td>\n",
              "      <td>02675: RESSONÂNCIA MAGNÉTICA                  ...</td>\n",
              "      <td>Inativo</td>\n",
              "      <td>Não</td>\n",
              "    </tr>\n",
              "    <tr>\n",
              "      <th>498</th>\n",
              "      <td>498</td>\n",
              "      <td>150808</td>\n",
              "      <td>PEÇA ACESSÓRIO P/ SISTEMA BRAQUITERAPIA, APARE...</td>\n",
              "      <td>65: EQUIPAMENTOS E ARTIGOS PARA USO MÉDICO, DE...</td>\n",
              "      <td>6525: EQUIPAMENTOS E SUPRIMENTOS DE RAIOS-X DE...</td>\n",
              "      <td>02844: PEÇA ACESSÓRIO P/ SISTEMA BRAQUITERAPIA...</td>\n",
              "      <td>Inativo</td>\n",
              "      <td>Não</td>\n",
              "    </tr>\n",
              "    <tr>\n",
              "      <th>499</th>\n",
              "      <td>499</td>\n",
              "      <td>150811</td>\n",
              "      <td>CARRINHO - USO LABORATÓRIO, CARRINHO - USO LAB...</td>\n",
              "      <td>65: EQUIPAMENTOS E ARTIGOS PARA USO MÉDICO, DE...</td>\n",
              "      <td>6530: MOBILIÁRIO, EQUIPAMENTOS, UTENSÍLIOS E  ...</td>\n",
              "      <td>17750: CARRINHO - USO LABORATÓRIO             ...</td>\n",
              "      <td>Inativo</td>\n",
              "      <td>Não</td>\n",
              "    </tr>\n",
              "  </tbody>\n",
              "</table>\n",
              "<p>500 rows × 8 columns</p>\n",
              "</div>"
            ],
            "text/plain": [
              "     Unnamed: 0  Código do Item  ...   Status Sustentável\n",
              "0             0          125806  ...  Inativo         Não\n",
              "1             1          125814  ...  Inativo         Não\n",
              "2             2          125822  ...  Inativo         Não\n",
              "3             3          125873  ...  Inativo         Não\n",
              "4             4          125911  ...  Inativo         Não\n",
              "..          ...             ...  ...      ...         ...\n",
              "495         495          150774  ...  Inativo         Não\n",
              "496         496          150775  ...  Inativo         Não\n",
              "497         497          150804  ...  Inativo         Não\n",
              "498         498          150808  ...  Inativo         Não\n",
              "499         499          150811  ...  Inativo         Não\n",
              "\n",
              "[500 rows x 8 columns]"
            ]
          },
          "metadata": {
            "tags": []
          },
          "execution_count": 33
        }
      ]
    },
    {
      "cell_type": "code",
      "metadata": {
        "id": "M6OygOfhdAIA",
        "colab_type": "code",
        "colab": {}
      },
      "source": [
        ""
      ],
      "execution_count": null,
      "outputs": []
    },
    {
      "cell_type": "code",
      "metadata": {
        "id": "6PnST1N5dAK-",
        "colab_type": "code",
        "colab": {}
      },
      "source": [
        ""
      ],
      "execution_count": null,
      "outputs": []
    },
    {
      "cell_type": "code",
      "metadata": {
        "id": "jjikaBKtdANm",
        "colab_type": "code",
        "colab": {}
      },
      "source": [
        ""
      ],
      "execution_count": null,
      "outputs": []
    },
    {
      "cell_type": "code",
      "metadata": {
        "id": "JGZ3oTo-dAQP",
        "colab_type": "code",
        "colab": {}
      },
      "source": [
        ""
      ],
      "execution_count": null,
      "outputs": []
    },
    {
      "cell_type": "code",
      "metadata": {
        "id": "BrVAFo9QbDaV",
        "colab_type": "code",
        "colab": {}
      },
      "source": [
        ""
      ],
      "execution_count": null,
      "outputs": []
    },
    {
      "cell_type": "code",
      "metadata": {
        "id": "nYbEcHogbDeK",
        "colab_type": "code",
        "colab": {}
      },
      "source": [
        ""
      ],
      "execution_count": null,
      "outputs": []
    },
    {
      "cell_type": "code",
      "metadata": {
        "id": "nQ8-v_3JbDhi",
        "colab_type": "code",
        "colab": {}
      },
      "source": [
        ""
      ],
      "execution_count": null,
      "outputs": []
    },
    {
      "cell_type": "code",
      "metadata": {
        "id": "xFb3dtlwbDlD",
        "colab_type": "code",
        "colab": {}
      },
      "source": [
        ""
      ],
      "execution_count": null,
      "outputs": []
    }
  ]
}